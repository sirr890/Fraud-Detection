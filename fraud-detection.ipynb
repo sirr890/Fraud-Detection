{
 "cells": [
  {
   "cell_type": "code",
   "execution_count": 1,
   "id": "256de1c9",
   "metadata": {
    "_cell_guid": "b1076dfc-b9ad-4769-8c92-a6c4dae69d19",
    "_uuid": "8f2839f25d086af736a60e9eeb907d3b93b6e0e5",
    "execution": {
     "iopub.execute_input": "2022-07-28T13:05:04.253290Z",
     "iopub.status.busy": "2022-07-28T13:05:04.252114Z",
     "iopub.status.idle": "2022-07-28T13:05:05.666090Z",
     "shell.execute_reply": "2022-07-28T13:05:05.665073Z"
    },
    "papermill": {
     "duration": 1.428008,
     "end_time": "2022-07-28T13:05:05.668533",
     "exception": false,
     "start_time": "2022-07-28T13:05:04.240525",
     "status": "completed"
    },
    "tags": []
   },
   "outputs": [
    {
     "name": "stdout",
     "output_type": "stream",
     "text": [
      "/kaggle/input/creditcardfraud/creditcard.csv\n"
     ]
    }
   ],
   "source": [
    "# This Python 3 environment comes with many helpful analytics libraries installed\n",
    "# It is defined by the kaggle/python Docker image: https://github.com/kaggle/docker-python\n",
    "# For example, here's several helpful packages to load\n",
    "\n",
    "import numpy as np # linear algebra\n",
    "import pandas as pd # data processing, CSV file I/O (e.g. pd.read_csv)\n",
    "from sklearn.ensemble import IsolationForest\n",
    "\n",
    "# Input data files are available in the read-only \"../input/\" directory\n",
    "# For example, running this (by clicking run or pressing Shift+Enter) will list all files under the input directory\n",
    "\n",
    "import os\n",
    "for dirname, _, filenames in os.walk('/kaggle/input'):\n",
    "    for filename in filenames:\n",
    "        print(os.path.join(dirname, filename))\n",
    "\n",
    "# You can write up to 20GB to the current directory (/kaggle/working/) that gets preserved as output when you create a version using \"Save & Run All\" \n",
    "# You can also write temporary files to /kaggle/temp/, but they won't be saved outside of the current session"
   ]
  },
  {
   "cell_type": "code",
   "execution_count": 2,
   "id": "6a5c8720",
   "metadata": {
    "execution": {
     "iopub.execute_input": "2022-07-28T13:05:05.687452Z",
     "iopub.status.busy": "2022-07-28T13:05:05.686442Z",
     "iopub.status.idle": "2022-07-28T13:05:10.413434Z",
     "shell.execute_reply": "2022-07-28T13:05:10.412560Z"
    },
    "papermill": {
     "duration": 4.739,
     "end_time": "2022-07-28T13:05:10.415989",
     "exception": false,
     "start_time": "2022-07-28T13:05:05.676989",
     "status": "completed"
    },
    "tags": []
   },
   "outputs": [],
   "source": [
    "from scipy import stats\n",
    "path = \"../input/creditcardfraud/creditcard.csv\"\n",
    "\n",
    "#read data from csv\n",
    "data=pd.read_csv(path)"
   ]
  },
  {
   "cell_type": "code",
   "execution_count": 3,
   "id": "c2b8c5eb",
   "metadata": {
    "execution": {
     "iopub.execute_input": "2022-07-28T13:05:10.436394Z",
     "iopub.status.busy": "2022-07-28T13:05:10.435382Z",
     "iopub.status.idle": "2022-07-28T13:05:10.477653Z",
     "shell.execute_reply": "2022-07-28T13:05:10.476594Z"
    },
    "papermill": {
     "duration": 0.055187,
     "end_time": "2022-07-28T13:05:10.479963",
     "exception": false,
     "start_time": "2022-07-28T13:05:10.424776",
     "status": "completed"
    },
    "tags": []
   },
   "outputs": [
    {
     "data": {
      "text/html": [
       "<div>\n",
       "<style scoped>\n",
       "    .dataframe tbody tr th:only-of-type {\n",
       "        vertical-align: middle;\n",
       "    }\n",
       "\n",
       "    .dataframe tbody tr th {\n",
       "        vertical-align: top;\n",
       "    }\n",
       "\n",
       "    .dataframe thead th {\n",
       "        text-align: right;\n",
       "    }\n",
       "</style>\n",
       "<table border=\"1\" class=\"dataframe\">\n",
       "  <thead>\n",
       "    <tr style=\"text-align: right;\">\n",
       "      <th></th>\n",
       "      <th>Time</th>\n",
       "      <th>V1</th>\n",
       "      <th>V2</th>\n",
       "      <th>V3</th>\n",
       "      <th>V4</th>\n",
       "      <th>V5</th>\n",
       "      <th>V6</th>\n",
       "      <th>V7</th>\n",
       "      <th>V8</th>\n",
       "      <th>V9</th>\n",
       "      <th>...</th>\n",
       "      <th>V21</th>\n",
       "      <th>V22</th>\n",
       "      <th>V23</th>\n",
       "      <th>V24</th>\n",
       "      <th>V25</th>\n",
       "      <th>V26</th>\n",
       "      <th>V27</th>\n",
       "      <th>V28</th>\n",
       "      <th>Amount</th>\n",
       "      <th>Class</th>\n",
       "    </tr>\n",
       "  </thead>\n",
       "  <tbody>\n",
       "    <tr>\n",
       "      <th>0</th>\n",
       "      <td>0.0</td>\n",
       "      <td>-1.359807</td>\n",
       "      <td>-0.072781</td>\n",
       "      <td>2.536347</td>\n",
       "      <td>1.378155</td>\n",
       "      <td>-0.338321</td>\n",
       "      <td>0.462388</td>\n",
       "      <td>0.239599</td>\n",
       "      <td>0.098698</td>\n",
       "      <td>0.363787</td>\n",
       "      <td>...</td>\n",
       "      <td>-0.018307</td>\n",
       "      <td>0.277838</td>\n",
       "      <td>-0.110474</td>\n",
       "      <td>0.066928</td>\n",
       "      <td>0.128539</td>\n",
       "      <td>-0.189115</td>\n",
       "      <td>0.133558</td>\n",
       "      <td>-0.021053</td>\n",
       "      <td>149.62</td>\n",
       "      <td>0</td>\n",
       "    </tr>\n",
       "    <tr>\n",
       "      <th>1</th>\n",
       "      <td>0.0</td>\n",
       "      <td>1.191857</td>\n",
       "      <td>0.266151</td>\n",
       "      <td>0.166480</td>\n",
       "      <td>0.448154</td>\n",
       "      <td>0.060018</td>\n",
       "      <td>-0.082361</td>\n",
       "      <td>-0.078803</td>\n",
       "      <td>0.085102</td>\n",
       "      <td>-0.255425</td>\n",
       "      <td>...</td>\n",
       "      <td>-0.225775</td>\n",
       "      <td>-0.638672</td>\n",
       "      <td>0.101288</td>\n",
       "      <td>-0.339846</td>\n",
       "      <td>0.167170</td>\n",
       "      <td>0.125895</td>\n",
       "      <td>-0.008983</td>\n",
       "      <td>0.014724</td>\n",
       "      <td>2.69</td>\n",
       "      <td>0</td>\n",
       "    </tr>\n",
       "    <tr>\n",
       "      <th>2</th>\n",
       "      <td>1.0</td>\n",
       "      <td>-1.358354</td>\n",
       "      <td>-1.340163</td>\n",
       "      <td>1.773209</td>\n",
       "      <td>0.379780</td>\n",
       "      <td>-0.503198</td>\n",
       "      <td>1.800499</td>\n",
       "      <td>0.791461</td>\n",
       "      <td>0.247676</td>\n",
       "      <td>-1.514654</td>\n",
       "      <td>...</td>\n",
       "      <td>0.247998</td>\n",
       "      <td>0.771679</td>\n",
       "      <td>0.909412</td>\n",
       "      <td>-0.689281</td>\n",
       "      <td>-0.327642</td>\n",
       "      <td>-0.139097</td>\n",
       "      <td>-0.055353</td>\n",
       "      <td>-0.059752</td>\n",
       "      <td>378.66</td>\n",
       "      <td>0</td>\n",
       "    </tr>\n",
       "    <tr>\n",
       "      <th>3</th>\n",
       "      <td>1.0</td>\n",
       "      <td>-0.966272</td>\n",
       "      <td>-0.185226</td>\n",
       "      <td>1.792993</td>\n",
       "      <td>-0.863291</td>\n",
       "      <td>-0.010309</td>\n",
       "      <td>1.247203</td>\n",
       "      <td>0.237609</td>\n",
       "      <td>0.377436</td>\n",
       "      <td>-1.387024</td>\n",
       "      <td>...</td>\n",
       "      <td>-0.108300</td>\n",
       "      <td>0.005274</td>\n",
       "      <td>-0.190321</td>\n",
       "      <td>-1.175575</td>\n",
       "      <td>0.647376</td>\n",
       "      <td>-0.221929</td>\n",
       "      <td>0.062723</td>\n",
       "      <td>0.061458</td>\n",
       "      <td>123.50</td>\n",
       "      <td>0</td>\n",
       "    </tr>\n",
       "    <tr>\n",
       "      <th>4</th>\n",
       "      <td>2.0</td>\n",
       "      <td>-1.158233</td>\n",
       "      <td>0.877737</td>\n",
       "      <td>1.548718</td>\n",
       "      <td>0.403034</td>\n",
       "      <td>-0.407193</td>\n",
       "      <td>0.095921</td>\n",
       "      <td>0.592941</td>\n",
       "      <td>-0.270533</td>\n",
       "      <td>0.817739</td>\n",
       "      <td>...</td>\n",
       "      <td>-0.009431</td>\n",
       "      <td>0.798278</td>\n",
       "      <td>-0.137458</td>\n",
       "      <td>0.141267</td>\n",
       "      <td>-0.206010</td>\n",
       "      <td>0.502292</td>\n",
       "      <td>0.219422</td>\n",
       "      <td>0.215153</td>\n",
       "      <td>69.99</td>\n",
       "      <td>0</td>\n",
       "    </tr>\n",
       "    <tr>\n",
       "      <th>5</th>\n",
       "      <td>2.0</td>\n",
       "      <td>-0.425966</td>\n",
       "      <td>0.960523</td>\n",
       "      <td>1.141109</td>\n",
       "      <td>-0.168252</td>\n",
       "      <td>0.420987</td>\n",
       "      <td>-0.029728</td>\n",
       "      <td>0.476201</td>\n",
       "      <td>0.260314</td>\n",
       "      <td>-0.568671</td>\n",
       "      <td>...</td>\n",
       "      <td>-0.208254</td>\n",
       "      <td>-0.559825</td>\n",
       "      <td>-0.026398</td>\n",
       "      <td>-0.371427</td>\n",
       "      <td>-0.232794</td>\n",
       "      <td>0.105915</td>\n",
       "      <td>0.253844</td>\n",
       "      <td>0.081080</td>\n",
       "      <td>3.67</td>\n",
       "      <td>0</td>\n",
       "    </tr>\n",
       "    <tr>\n",
       "      <th>6</th>\n",
       "      <td>4.0</td>\n",
       "      <td>1.229658</td>\n",
       "      <td>0.141004</td>\n",
       "      <td>0.045371</td>\n",
       "      <td>1.202613</td>\n",
       "      <td>0.191881</td>\n",
       "      <td>0.272708</td>\n",
       "      <td>-0.005159</td>\n",
       "      <td>0.081213</td>\n",
       "      <td>0.464960</td>\n",
       "      <td>...</td>\n",
       "      <td>-0.167716</td>\n",
       "      <td>-0.270710</td>\n",
       "      <td>-0.154104</td>\n",
       "      <td>-0.780055</td>\n",
       "      <td>0.750137</td>\n",
       "      <td>-0.257237</td>\n",
       "      <td>0.034507</td>\n",
       "      <td>0.005168</td>\n",
       "      <td>4.99</td>\n",
       "      <td>0</td>\n",
       "    </tr>\n",
       "    <tr>\n",
       "      <th>7</th>\n",
       "      <td>7.0</td>\n",
       "      <td>-0.644269</td>\n",
       "      <td>1.417964</td>\n",
       "      <td>1.074380</td>\n",
       "      <td>-0.492199</td>\n",
       "      <td>0.948934</td>\n",
       "      <td>0.428118</td>\n",
       "      <td>1.120631</td>\n",
       "      <td>-3.807864</td>\n",
       "      <td>0.615375</td>\n",
       "      <td>...</td>\n",
       "      <td>1.943465</td>\n",
       "      <td>-1.015455</td>\n",
       "      <td>0.057504</td>\n",
       "      <td>-0.649709</td>\n",
       "      <td>-0.415267</td>\n",
       "      <td>-0.051634</td>\n",
       "      <td>-1.206921</td>\n",
       "      <td>-1.085339</td>\n",
       "      <td>40.80</td>\n",
       "      <td>0</td>\n",
       "    </tr>\n",
       "    <tr>\n",
       "      <th>8</th>\n",
       "      <td>7.0</td>\n",
       "      <td>-0.894286</td>\n",
       "      <td>0.286157</td>\n",
       "      <td>-0.113192</td>\n",
       "      <td>-0.271526</td>\n",
       "      <td>2.669599</td>\n",
       "      <td>3.721818</td>\n",
       "      <td>0.370145</td>\n",
       "      <td>0.851084</td>\n",
       "      <td>-0.392048</td>\n",
       "      <td>...</td>\n",
       "      <td>-0.073425</td>\n",
       "      <td>-0.268092</td>\n",
       "      <td>-0.204233</td>\n",
       "      <td>1.011592</td>\n",
       "      <td>0.373205</td>\n",
       "      <td>-0.384157</td>\n",
       "      <td>0.011747</td>\n",
       "      <td>0.142404</td>\n",
       "      <td>93.20</td>\n",
       "      <td>0</td>\n",
       "    </tr>\n",
       "    <tr>\n",
       "      <th>9</th>\n",
       "      <td>9.0</td>\n",
       "      <td>-0.338262</td>\n",
       "      <td>1.119593</td>\n",
       "      <td>1.044367</td>\n",
       "      <td>-0.222187</td>\n",
       "      <td>0.499361</td>\n",
       "      <td>-0.246761</td>\n",
       "      <td>0.651583</td>\n",
       "      <td>0.069539</td>\n",
       "      <td>-0.736727</td>\n",
       "      <td>...</td>\n",
       "      <td>-0.246914</td>\n",
       "      <td>-0.633753</td>\n",
       "      <td>-0.120794</td>\n",
       "      <td>-0.385050</td>\n",
       "      <td>-0.069733</td>\n",
       "      <td>0.094199</td>\n",
       "      <td>0.246219</td>\n",
       "      <td>0.083076</td>\n",
       "      <td>3.68</td>\n",
       "      <td>0</td>\n",
       "    </tr>\n",
       "  </tbody>\n",
       "</table>\n",
       "<p>10 rows × 31 columns</p>\n",
       "</div>"
      ],
      "text/plain": [
       "   Time        V1        V2        V3        V4        V5        V6        V7  \\\n",
       "0   0.0 -1.359807 -0.072781  2.536347  1.378155 -0.338321  0.462388  0.239599   \n",
       "1   0.0  1.191857  0.266151  0.166480  0.448154  0.060018 -0.082361 -0.078803   \n",
       "2   1.0 -1.358354 -1.340163  1.773209  0.379780 -0.503198  1.800499  0.791461   \n",
       "3   1.0 -0.966272 -0.185226  1.792993 -0.863291 -0.010309  1.247203  0.237609   \n",
       "4   2.0 -1.158233  0.877737  1.548718  0.403034 -0.407193  0.095921  0.592941   \n",
       "5   2.0 -0.425966  0.960523  1.141109 -0.168252  0.420987 -0.029728  0.476201   \n",
       "6   4.0  1.229658  0.141004  0.045371  1.202613  0.191881  0.272708 -0.005159   \n",
       "7   7.0 -0.644269  1.417964  1.074380 -0.492199  0.948934  0.428118  1.120631   \n",
       "8   7.0 -0.894286  0.286157 -0.113192 -0.271526  2.669599  3.721818  0.370145   \n",
       "9   9.0 -0.338262  1.119593  1.044367 -0.222187  0.499361 -0.246761  0.651583   \n",
       "\n",
       "         V8        V9  ...       V21       V22       V23       V24       V25  \\\n",
       "0  0.098698  0.363787  ... -0.018307  0.277838 -0.110474  0.066928  0.128539   \n",
       "1  0.085102 -0.255425  ... -0.225775 -0.638672  0.101288 -0.339846  0.167170   \n",
       "2  0.247676 -1.514654  ...  0.247998  0.771679  0.909412 -0.689281 -0.327642   \n",
       "3  0.377436 -1.387024  ... -0.108300  0.005274 -0.190321 -1.175575  0.647376   \n",
       "4 -0.270533  0.817739  ... -0.009431  0.798278 -0.137458  0.141267 -0.206010   \n",
       "5  0.260314 -0.568671  ... -0.208254 -0.559825 -0.026398 -0.371427 -0.232794   \n",
       "6  0.081213  0.464960  ... -0.167716 -0.270710 -0.154104 -0.780055  0.750137   \n",
       "7 -3.807864  0.615375  ...  1.943465 -1.015455  0.057504 -0.649709 -0.415267   \n",
       "8  0.851084 -0.392048  ... -0.073425 -0.268092 -0.204233  1.011592  0.373205   \n",
       "9  0.069539 -0.736727  ... -0.246914 -0.633753 -0.120794 -0.385050 -0.069733   \n",
       "\n",
       "        V26       V27       V28  Amount  Class  \n",
       "0 -0.189115  0.133558 -0.021053  149.62      0  \n",
       "1  0.125895 -0.008983  0.014724    2.69      0  \n",
       "2 -0.139097 -0.055353 -0.059752  378.66      0  \n",
       "3 -0.221929  0.062723  0.061458  123.50      0  \n",
       "4  0.502292  0.219422  0.215153   69.99      0  \n",
       "5  0.105915  0.253844  0.081080    3.67      0  \n",
       "6 -0.257237  0.034507  0.005168    4.99      0  \n",
       "7 -0.051634 -1.206921 -1.085339   40.80      0  \n",
       "8 -0.384157  0.011747  0.142404   93.20      0  \n",
       "9  0.094199  0.246219  0.083076    3.68      0  \n",
       "\n",
       "[10 rows x 31 columns]"
      ]
     },
     "execution_count": 3,
     "metadata": {},
     "output_type": "execute_result"
    }
   ],
   "source": [
    "data.head(10)"
   ]
  },
  {
   "cell_type": "code",
   "execution_count": 4,
   "id": "21bd721b",
   "metadata": {
    "execution": {
     "iopub.execute_input": "2022-07-28T13:05:10.498652Z",
     "iopub.status.busy": "2022-07-28T13:05:10.498258Z",
     "iopub.status.idle": "2022-07-28T13:05:11.016062Z",
     "shell.execute_reply": "2022-07-28T13:05:11.014982Z"
    },
    "papermill": {
     "duration": 0.530113,
     "end_time": "2022-07-28T13:05:11.018659",
     "exception": false,
     "start_time": "2022-07-28T13:05:10.488546",
     "status": "completed"
    },
    "tags": []
   },
   "outputs": [
    {
     "data": {
      "text/html": [
       "<div>\n",
       "<style scoped>\n",
       "    .dataframe tbody tr th:only-of-type {\n",
       "        vertical-align: middle;\n",
       "    }\n",
       "\n",
       "    .dataframe tbody tr th {\n",
       "        vertical-align: top;\n",
       "    }\n",
       "\n",
       "    .dataframe thead th {\n",
       "        text-align: right;\n",
       "    }\n",
       "</style>\n",
       "<table border=\"1\" class=\"dataframe\">\n",
       "  <thead>\n",
       "    <tr style=\"text-align: right;\">\n",
       "      <th></th>\n",
       "      <th>Time</th>\n",
       "      <th>V1</th>\n",
       "      <th>V2</th>\n",
       "      <th>V3</th>\n",
       "      <th>V4</th>\n",
       "      <th>V5</th>\n",
       "      <th>V6</th>\n",
       "      <th>V7</th>\n",
       "      <th>V8</th>\n",
       "      <th>V9</th>\n",
       "      <th>...</th>\n",
       "      <th>V21</th>\n",
       "      <th>V22</th>\n",
       "      <th>V23</th>\n",
       "      <th>V24</th>\n",
       "      <th>V25</th>\n",
       "      <th>V26</th>\n",
       "      <th>V27</th>\n",
       "      <th>V28</th>\n",
       "      <th>Amount</th>\n",
       "      <th>Class</th>\n",
       "    </tr>\n",
       "  </thead>\n",
       "  <tbody>\n",
       "    <tr>\n",
       "      <th>count</th>\n",
       "      <td>284807.000000</td>\n",
       "      <td>2.848070e+05</td>\n",
       "      <td>2.848070e+05</td>\n",
       "      <td>2.848070e+05</td>\n",
       "      <td>2.848070e+05</td>\n",
       "      <td>2.848070e+05</td>\n",
       "      <td>2.848070e+05</td>\n",
       "      <td>2.848070e+05</td>\n",
       "      <td>2.848070e+05</td>\n",
       "      <td>2.848070e+05</td>\n",
       "      <td>...</td>\n",
       "      <td>2.848070e+05</td>\n",
       "      <td>2.848070e+05</td>\n",
       "      <td>2.848070e+05</td>\n",
       "      <td>2.848070e+05</td>\n",
       "      <td>2.848070e+05</td>\n",
       "      <td>2.848070e+05</td>\n",
       "      <td>2.848070e+05</td>\n",
       "      <td>2.848070e+05</td>\n",
       "      <td>284807.000000</td>\n",
       "      <td>284807.000000</td>\n",
       "    </tr>\n",
       "    <tr>\n",
       "      <th>mean</th>\n",
       "      <td>94813.859575</td>\n",
       "      <td>1.168375e-15</td>\n",
       "      <td>3.416908e-16</td>\n",
       "      <td>-1.379537e-15</td>\n",
       "      <td>2.074095e-15</td>\n",
       "      <td>9.604066e-16</td>\n",
       "      <td>1.487313e-15</td>\n",
       "      <td>-5.556467e-16</td>\n",
       "      <td>1.213481e-16</td>\n",
       "      <td>-2.406331e-15</td>\n",
       "      <td>...</td>\n",
       "      <td>1.654067e-16</td>\n",
       "      <td>-3.568593e-16</td>\n",
       "      <td>2.578648e-16</td>\n",
       "      <td>4.473266e-15</td>\n",
       "      <td>5.340915e-16</td>\n",
       "      <td>1.683437e-15</td>\n",
       "      <td>-3.660091e-16</td>\n",
       "      <td>-1.227390e-16</td>\n",
       "      <td>88.349619</td>\n",
       "      <td>0.001727</td>\n",
       "    </tr>\n",
       "    <tr>\n",
       "      <th>std</th>\n",
       "      <td>47488.145955</td>\n",
       "      <td>1.958696e+00</td>\n",
       "      <td>1.651309e+00</td>\n",
       "      <td>1.516255e+00</td>\n",
       "      <td>1.415869e+00</td>\n",
       "      <td>1.380247e+00</td>\n",
       "      <td>1.332271e+00</td>\n",
       "      <td>1.237094e+00</td>\n",
       "      <td>1.194353e+00</td>\n",
       "      <td>1.098632e+00</td>\n",
       "      <td>...</td>\n",
       "      <td>7.345240e-01</td>\n",
       "      <td>7.257016e-01</td>\n",
       "      <td>6.244603e-01</td>\n",
       "      <td>6.056471e-01</td>\n",
       "      <td>5.212781e-01</td>\n",
       "      <td>4.822270e-01</td>\n",
       "      <td>4.036325e-01</td>\n",
       "      <td>3.300833e-01</td>\n",
       "      <td>250.120109</td>\n",
       "      <td>0.041527</td>\n",
       "    </tr>\n",
       "    <tr>\n",
       "      <th>min</th>\n",
       "      <td>0.000000</td>\n",
       "      <td>-5.640751e+01</td>\n",
       "      <td>-7.271573e+01</td>\n",
       "      <td>-4.832559e+01</td>\n",
       "      <td>-5.683171e+00</td>\n",
       "      <td>-1.137433e+02</td>\n",
       "      <td>-2.616051e+01</td>\n",
       "      <td>-4.355724e+01</td>\n",
       "      <td>-7.321672e+01</td>\n",
       "      <td>-1.343407e+01</td>\n",
       "      <td>...</td>\n",
       "      <td>-3.483038e+01</td>\n",
       "      <td>-1.093314e+01</td>\n",
       "      <td>-4.480774e+01</td>\n",
       "      <td>-2.836627e+00</td>\n",
       "      <td>-1.029540e+01</td>\n",
       "      <td>-2.604551e+00</td>\n",
       "      <td>-2.256568e+01</td>\n",
       "      <td>-1.543008e+01</td>\n",
       "      <td>0.000000</td>\n",
       "      <td>0.000000</td>\n",
       "    </tr>\n",
       "    <tr>\n",
       "      <th>25%</th>\n",
       "      <td>54201.500000</td>\n",
       "      <td>-9.203734e-01</td>\n",
       "      <td>-5.985499e-01</td>\n",
       "      <td>-8.903648e-01</td>\n",
       "      <td>-8.486401e-01</td>\n",
       "      <td>-6.915971e-01</td>\n",
       "      <td>-7.682956e-01</td>\n",
       "      <td>-5.540759e-01</td>\n",
       "      <td>-2.086297e-01</td>\n",
       "      <td>-6.430976e-01</td>\n",
       "      <td>...</td>\n",
       "      <td>-2.283949e-01</td>\n",
       "      <td>-5.423504e-01</td>\n",
       "      <td>-1.618463e-01</td>\n",
       "      <td>-3.545861e-01</td>\n",
       "      <td>-3.171451e-01</td>\n",
       "      <td>-3.269839e-01</td>\n",
       "      <td>-7.083953e-02</td>\n",
       "      <td>-5.295979e-02</td>\n",
       "      <td>5.600000</td>\n",
       "      <td>0.000000</td>\n",
       "    </tr>\n",
       "    <tr>\n",
       "      <th>50%</th>\n",
       "      <td>84692.000000</td>\n",
       "      <td>1.810880e-02</td>\n",
       "      <td>6.548556e-02</td>\n",
       "      <td>1.798463e-01</td>\n",
       "      <td>-1.984653e-02</td>\n",
       "      <td>-5.433583e-02</td>\n",
       "      <td>-2.741871e-01</td>\n",
       "      <td>4.010308e-02</td>\n",
       "      <td>2.235804e-02</td>\n",
       "      <td>-5.142873e-02</td>\n",
       "      <td>...</td>\n",
       "      <td>-2.945017e-02</td>\n",
       "      <td>6.781943e-03</td>\n",
       "      <td>-1.119293e-02</td>\n",
       "      <td>4.097606e-02</td>\n",
       "      <td>1.659350e-02</td>\n",
       "      <td>-5.213911e-02</td>\n",
       "      <td>1.342146e-03</td>\n",
       "      <td>1.124383e-02</td>\n",
       "      <td>22.000000</td>\n",
       "      <td>0.000000</td>\n",
       "    </tr>\n",
       "    <tr>\n",
       "      <th>75%</th>\n",
       "      <td>139320.500000</td>\n",
       "      <td>1.315642e+00</td>\n",
       "      <td>8.037239e-01</td>\n",
       "      <td>1.027196e+00</td>\n",
       "      <td>7.433413e-01</td>\n",
       "      <td>6.119264e-01</td>\n",
       "      <td>3.985649e-01</td>\n",
       "      <td>5.704361e-01</td>\n",
       "      <td>3.273459e-01</td>\n",
       "      <td>5.971390e-01</td>\n",
       "      <td>...</td>\n",
       "      <td>1.863772e-01</td>\n",
       "      <td>5.285536e-01</td>\n",
       "      <td>1.476421e-01</td>\n",
       "      <td>4.395266e-01</td>\n",
       "      <td>3.507156e-01</td>\n",
       "      <td>2.409522e-01</td>\n",
       "      <td>9.104512e-02</td>\n",
       "      <td>7.827995e-02</td>\n",
       "      <td>77.165000</td>\n",
       "      <td>0.000000</td>\n",
       "    </tr>\n",
       "    <tr>\n",
       "      <th>max</th>\n",
       "      <td>172792.000000</td>\n",
       "      <td>2.454930e+00</td>\n",
       "      <td>2.205773e+01</td>\n",
       "      <td>9.382558e+00</td>\n",
       "      <td>1.687534e+01</td>\n",
       "      <td>3.480167e+01</td>\n",
       "      <td>7.330163e+01</td>\n",
       "      <td>1.205895e+02</td>\n",
       "      <td>2.000721e+01</td>\n",
       "      <td>1.559499e+01</td>\n",
       "      <td>...</td>\n",
       "      <td>2.720284e+01</td>\n",
       "      <td>1.050309e+01</td>\n",
       "      <td>2.252841e+01</td>\n",
       "      <td>4.584549e+00</td>\n",
       "      <td>7.519589e+00</td>\n",
       "      <td>3.517346e+00</td>\n",
       "      <td>3.161220e+01</td>\n",
       "      <td>3.384781e+01</td>\n",
       "      <td>25691.160000</td>\n",
       "      <td>1.000000</td>\n",
       "    </tr>\n",
       "  </tbody>\n",
       "</table>\n",
       "<p>8 rows × 31 columns</p>\n",
       "</div>"
      ],
      "text/plain": [
       "                Time            V1            V2            V3            V4  \\\n",
       "count  284807.000000  2.848070e+05  2.848070e+05  2.848070e+05  2.848070e+05   \n",
       "mean    94813.859575  1.168375e-15  3.416908e-16 -1.379537e-15  2.074095e-15   \n",
       "std     47488.145955  1.958696e+00  1.651309e+00  1.516255e+00  1.415869e+00   \n",
       "min         0.000000 -5.640751e+01 -7.271573e+01 -4.832559e+01 -5.683171e+00   \n",
       "25%     54201.500000 -9.203734e-01 -5.985499e-01 -8.903648e-01 -8.486401e-01   \n",
       "50%     84692.000000  1.810880e-02  6.548556e-02  1.798463e-01 -1.984653e-02   \n",
       "75%    139320.500000  1.315642e+00  8.037239e-01  1.027196e+00  7.433413e-01   \n",
       "max    172792.000000  2.454930e+00  2.205773e+01  9.382558e+00  1.687534e+01   \n",
       "\n",
       "                 V5            V6            V7            V8            V9  \\\n",
       "count  2.848070e+05  2.848070e+05  2.848070e+05  2.848070e+05  2.848070e+05   \n",
       "mean   9.604066e-16  1.487313e-15 -5.556467e-16  1.213481e-16 -2.406331e-15   \n",
       "std    1.380247e+00  1.332271e+00  1.237094e+00  1.194353e+00  1.098632e+00   \n",
       "min   -1.137433e+02 -2.616051e+01 -4.355724e+01 -7.321672e+01 -1.343407e+01   \n",
       "25%   -6.915971e-01 -7.682956e-01 -5.540759e-01 -2.086297e-01 -6.430976e-01   \n",
       "50%   -5.433583e-02 -2.741871e-01  4.010308e-02  2.235804e-02 -5.142873e-02   \n",
       "75%    6.119264e-01  3.985649e-01  5.704361e-01  3.273459e-01  5.971390e-01   \n",
       "max    3.480167e+01  7.330163e+01  1.205895e+02  2.000721e+01  1.559499e+01   \n",
       "\n",
       "       ...           V21           V22           V23           V24  \\\n",
       "count  ...  2.848070e+05  2.848070e+05  2.848070e+05  2.848070e+05   \n",
       "mean   ...  1.654067e-16 -3.568593e-16  2.578648e-16  4.473266e-15   \n",
       "std    ...  7.345240e-01  7.257016e-01  6.244603e-01  6.056471e-01   \n",
       "min    ... -3.483038e+01 -1.093314e+01 -4.480774e+01 -2.836627e+00   \n",
       "25%    ... -2.283949e-01 -5.423504e-01 -1.618463e-01 -3.545861e-01   \n",
       "50%    ... -2.945017e-02  6.781943e-03 -1.119293e-02  4.097606e-02   \n",
       "75%    ...  1.863772e-01  5.285536e-01  1.476421e-01  4.395266e-01   \n",
       "max    ...  2.720284e+01  1.050309e+01  2.252841e+01  4.584549e+00   \n",
       "\n",
       "                V25           V26           V27           V28         Amount  \\\n",
       "count  2.848070e+05  2.848070e+05  2.848070e+05  2.848070e+05  284807.000000   \n",
       "mean   5.340915e-16  1.683437e-15 -3.660091e-16 -1.227390e-16      88.349619   \n",
       "std    5.212781e-01  4.822270e-01  4.036325e-01  3.300833e-01     250.120109   \n",
       "min   -1.029540e+01 -2.604551e+00 -2.256568e+01 -1.543008e+01       0.000000   \n",
       "25%   -3.171451e-01 -3.269839e-01 -7.083953e-02 -5.295979e-02       5.600000   \n",
       "50%    1.659350e-02 -5.213911e-02  1.342146e-03  1.124383e-02      22.000000   \n",
       "75%    3.507156e-01  2.409522e-01  9.104512e-02  7.827995e-02      77.165000   \n",
       "max    7.519589e+00  3.517346e+00  3.161220e+01  3.384781e+01   25691.160000   \n",
       "\n",
       "               Class  \n",
       "count  284807.000000  \n",
       "mean        0.001727  \n",
       "std         0.041527  \n",
       "min         0.000000  \n",
       "25%         0.000000  \n",
       "50%         0.000000  \n",
       "75%         0.000000  \n",
       "max         1.000000  \n",
       "\n",
       "[8 rows x 31 columns]"
      ]
     },
     "execution_count": 4,
     "metadata": {},
     "output_type": "execute_result"
    }
   ],
   "source": [
    "data.describe()"
   ]
  },
  {
   "cell_type": "code",
   "execution_count": 5,
   "id": "113289b4",
   "metadata": {
    "execution": {
     "iopub.execute_input": "2022-07-28T13:05:11.038485Z",
     "iopub.status.busy": "2022-07-28T13:05:11.038104Z",
     "iopub.status.idle": "2022-07-28T13:05:14.256318Z",
     "shell.execute_reply": "2022-07-28T13:05:14.255208Z"
    },
    "papermill": {
     "duration": 3.230641,
     "end_time": "2022-07-28T13:05:14.258618",
     "exception": false,
     "start_time": "2022-07-28T13:05:11.027977",
     "status": "completed"
    },
    "tags": []
   },
   "outputs": [
    {
     "data": {
      "image/png": "[encoded data removed]",
      "text/plain": [
       "<Figure size 1440x720 with 30 Axes>"
      ]
     },
     "metadata": {
      "needs_background": "light"
     },
     "output_type": "display_data"
    }
   ],
   "source": [
    "import matplotlib.pyplot as plt\n",
    "fig, ax = plt.subplots(6,5,figsize=(20,10))\n",
    "for count, item in enumerate(ax.reshape(-1)):\n",
    "    item.hist(data.iloc[:,count])"
   ]
  },
  {
   "cell_type": "markdown",
   "id": "c0eee67c",
   "metadata": {
    "papermill": {
     "duration": 0.009726,
     "end_time": "2022-07-28T13:05:14.278578",
     "exception": false,
     "start_time": "2022-07-28T13:05:14.268852",
     "status": "completed"
    },
    "tags": []
   },
   "source": [
    "**Anomaly detection** involves identifying rare suspicious items or observations because they differ significantly from standard or normal patterns. "
   ]
  },
  {
   "cell_type": "code",
   "execution_count": 6,
   "id": "e6fbe33b",
   "metadata": {
    "execution": {
     "iopub.execute_input": "2022-07-28T13:05:14.301165Z",
     "iopub.status.busy": "2022-07-28T13:05:14.300258Z",
     "iopub.status.idle": "2022-07-28T13:05:14.348690Z",
     "shell.execute_reply": "2022-07-28T13:05:14.347393Z"
    },
    "papermill": {
     "duration": 0.062948,
     "end_time": "2022-07-28T13:05:14.351443",
     "exception": false,
     "start_time": "2022-07-28T13:05:14.288495",
     "status": "completed"
    },
    "tags": []
   },
   "outputs": [
    {
     "name": "stdout",
     "output_type": "stream",
     "text": [
      "This dataset has 284807 objects, in which 284315 items are non-anomalous and 492 anomalous or fraud.\n"
     ]
    }
   ],
   "source": [
    "print('This dataset has '+str(data['Class'].shape[0])+ ' objects, in which '+str(data[data['Class']==0].shape[0])+' items are non-anomalous and '+str(data[data['Class']==1].shape[0])+' anomalous or fraud.')"
   ]
  },
  {
   "cell_type": "markdown",
   "id": "60ca7a58",
   "metadata": {
    "papermill": {
     "duration": 0.009946,
     "end_time": "2022-07-28T13:05:14.371684",
     "exception": false,
     "start_time": "2022-07-28T13:05:14.361738",
     "status": "completed"
    },
    "tags": []
   },
   "source": [
    "The data is split into training, validation, and test sets to develop and evaluate an anomaly detection approach as follows:\n",
    "\n",
    "* 60% of the non-anomalous or normal data is used for the training set.\n",
    "* The other part of the non-anomalous and anomalous data is split equally in the validation and testing sets 20% for validation and 20% for testing."
   ]
  },
  {
   "cell_type": "code",
   "execution_count": 7,
   "id": "49698ba5",
   "metadata": {
    "execution": {
     "iopub.execute_input": "2022-07-28T13:05:14.395102Z",
     "iopub.status.busy": "2022-07-28T13:05:14.394357Z",
     "iopub.status.idle": "2022-07-28T13:05:14.515746Z",
     "shell.execute_reply": "2022-07-28T13:05:14.514474Z"
    },
    "papermill": {
     "duration": 0.13568,
     "end_time": "2022-07-28T13:05:14.518272",
     "exception": false,
     "start_time": "2022-07-28T13:05:14.382592",
     "status": "completed"
    },
    "tags": []
   },
   "outputs": [
    {
     "name": "stdout",
     "output_type": "stream",
     "text": [
      "All data: (284807, 30) Training set: (283178, 30) Validation set:(814, 30) Test set: (815, 30)\n"
     ]
    }
   ],
   "source": [
    "# split data in train, validation, test\n",
    "\n",
    "v_t_percent=0.4\n",
    "y=data['Class']\n",
    "y_0=np.where(y==0)\n",
    "y_1=np.where(y==1)\n",
    "t=int((np.size(y_0)*v_t_percent)/100)\n",
    "\n",
    "# normal data for trainin\n",
    "data_train=data.iloc[y_0[0][t:],:-1]\n",
    "Y_train=y[y_0[0][t:]]\n",
    "\n",
    "data_temp0=data.iloc[y_0[0][:t],:-1]\n",
    "Y_temp0=y[y_0[0][:t]]\n",
    "data_temp1=data.iloc[y_1[0][:],:-1]\n",
    "Y_temp1=y[y_1[0][:]]\n",
    "\n",
    "# normal and anomalous data for validation\n",
    "data_val=pd.concat([data_temp0.iloc[:data_temp0.shape[0]//2,:],data_temp1.iloc[:data_temp1.shape[0]//2,:]])\n",
    "Y_val=pd.concat([Y_temp0[:data_temp0.shape[0]//2],Y_temp1[:data_temp1.shape[0]//2]])\n",
    "\n",
    "# normal and anomalous data for test\n",
    "data_test=pd.concat([data_temp0.iloc[data_temp0.shape[0]//2:,:],data_temp1.iloc[data_temp1.shape[0]//2:,:]])\n",
    "Y_test=pd.concat([Y_temp0[data_temp0.shape[0]//2:],Y_temp1[data_temp1.shape[0]//2:]])\n",
    "\n",
    "print('All data: '+str(data.iloc[:,:-1].shape),'Training set: '+str(data_train.shape),'Validation set:'+str(data_val.shape),'Test set: '+str(data_test.shape))"
   ]
  },
  {
   "cell_type": "markdown",
   "id": "52ab8202",
   "metadata": {
    "papermill": {
     "duration": 0.009781,
     "end_time": "2022-07-28T13:05:14.538090",
     "exception": false,
     "start_time": "2022-07-28T13:05:14.528309",
     "status": "completed"
    },
    "tags": []
   },
   "source": [
    "This problem will be solved such that given x, the model will predict 1, corresponding to an anomaly or 0 to a normal example.\n",
    "In this case, three differents approches are used https://scikit-learn.org/stable/user_guide.html\n",
    "* Isolation Forest\n",
    "    * The **Isolation Forest** is an anomaly detection algorithm. It detects anomalies using isolation rather than modeling the normal points.\n",
    "* Gaussian Mixture\n",
    "    * A **Gaussian Mixture model** is a probabilistic model that assumes all the data points are generated from a mixture of a finite number of Gaussian distributions with unknown parameters.\n",
    "* One Class SVM\n",
    "    * **The One Class SVM** is an unsupervised algorithm that learns a decision function for novelty detection: classifying new data as similar or different to the training set.\n"
   ]
  },
  {
   "cell_type": "code",
   "execution_count": 8,
   "id": "7aa82fb6",
   "metadata": {
    "execution": {
     "iopub.execute_input": "2022-07-28T13:05:14.560409Z",
     "iopub.status.busy": "2022-07-28T13:05:14.560035Z",
     "iopub.status.idle": "2022-07-28T13:05:14.565032Z",
     "shell.execute_reply": "2022-07-28T13:05:14.564221Z"
    },
    "papermill": {
     "duration": 0.018489,
     "end_time": "2022-07-28T13:05:14.566928",
     "exception": false,
     "start_time": "2022-07-28T13:05:14.548439",
     "status": "completed"
    },
    "tags": []
   },
   "outputs": [],
   "source": [
    "import time\n",
    "def tic():\n",
    "    t = time.time()\n",
    "    return t\n",
    "\n",
    "def toc(t):\n",
    "    return time.time() - t"
   ]
  },
  {
   "cell_type": "markdown",
   "id": "ef9806f3",
   "metadata": {
    "papermill": {
     "duration": 0.009577,
     "end_time": "2022-07-28T13:05:14.586569",
     "exception": false,
     "start_time": "2022-07-28T13:05:14.576992",
     "status": "completed"
    },
    "tags": []
   },
   "source": [
    "**Isolation Forest**"
   ]
  },
  {
   "cell_type": "code",
   "execution_count": 9,
   "id": "d1a1243e",
   "metadata": {
    "execution": {
     "iopub.execute_input": "2022-07-28T13:05:14.608159Z",
     "iopub.status.busy": "2022-07-28T13:05:14.607724Z",
     "iopub.status.idle": "2022-07-28T13:05:36.945052Z",
     "shell.execute_reply": "2022-07-28T13:05:36.943627Z"
    },
    "papermill": {
     "duration": 22.35122,
     "end_time": "2022-07-28T13:05:36.947723",
     "exception": false,
     "start_time": "2022-07-28T13:05:14.596503",
     "status": "completed"
    },
    "tags": []
   },
   "outputs": [
    {
     "name": "stdout",
     "output_type": "stream",
     "text": [
      "The training of a data of 283178 objects take 22.33 seconds according to differents hyper-parameters\n"
     ]
    }
   ],
   "source": [
    "from sklearn.ensemble import IsolationForest\n",
    "from sklearn.metrics import f1_score\n",
    "# Training isolation forest with different number of base estimators in the ensemble.\n",
    "\n",
    "max_f=0\n",
    "best_n_estimators=10\n",
    "l_n_estimators=np.arange(10,100,10)\n",
    "f_list=[0]*l_n_estimators.shape[0]\n",
    "model_list=[]\n",
    "j=0\n",
    "t=tic()\n",
    "for i in l_n_estimators:\n",
    "    model=IsolationForest(n_estimators=i)\n",
    "    model.fit(data_train)\n",
    "    model_list.append(model)\n",
    "    #prediction with the validation set\n",
    "    predit_y=model.predict(data_val)    \n",
    "    predit_ = [1 if l ==-1 else 0 for l in predit_y]\n",
    "\n",
    "    # metrics with isolation forest\n",
    "    F_score=f1_score(Y_val,predit_)    \n",
    "    f_list[j]=F_score\n",
    "    j+=1\n",
    "t=toc(t)\n",
    "#select the best model according the validation set\n",
    "best_n_estimators=np.argmax(f_list)\n",
    "b_model=model_list[best_n_estimators]\n",
    "model_list.clear()\n",
    "print('The training of a data of '+str(data_train.shape[0])+' objects take '+str(np.round(t,2))+' seconds according to differents hyper-parameters')"
   ]
  },
  {
   "cell_type": "markdown",
   "id": "33c101a3",
   "metadata": {
    "papermill": {
     "duration": 0.009919,
     "end_time": "2022-07-28T13:05:36.968007",
     "exception": false,
     "start_time": "2022-07-28T13:05:36.958088",
     "status": "completed"
    },
    "tags": []
   },
   "source": [
    "First, the training set is used to fit the model. Then, the validation set is used to select the best model concerning a metric for different hyper-parameters. Since the data is very skewed, because y equals 0 is much more common, F-score would be a good evaluation metric.\n",
    "\n",
    "$F1=\\frac{2*P*R}{P+R}$\n",
    "\n",
    "where P and R are Precision and Recall.\n",
    "\n",
    "$P=\\frac{TP}{TP+FP}$ and $R=\\frac{TP}{TP+FN}$\n",
    "\n",
    "* True Positive (TP):  non-anomalous or normal items predicted as normal.\n",
    "* False Negative (FN): anomaly items indicated as normal. Also called a Type II error in statistics.\n",
    "* False Positive (FP): normal items predicted as anomalies. Also called a Type I error in statistics."
   ]
  },
  {
   "cell_type": "code",
   "execution_count": 10,
   "id": "b0171a60",
   "metadata": {
    "execution": {
     "iopub.execute_input": "2022-07-28T13:05:36.990172Z",
     "iopub.status.busy": "2022-07-28T13:05:36.989476Z",
     "iopub.status.idle": "2022-07-28T13:05:37.184998Z",
     "shell.execute_reply": "2022-07-28T13:05:37.184064Z"
    },
    "papermill": {
     "duration": 0.209049,
     "end_time": "2022-07-28T13:05:37.187296",
     "exception": false,
     "start_time": "2022-07-28T13:05:36.978247",
     "status": "completed"
    },
    "tags": []
   },
   "outputs": [
    {
     "data": {
      "image/png": "[encoded data removed]",
      "text/plain": [
       "<Figure size 432x288 with 1 Axes>"
      ]
     },
     "metadata": {
      "needs_background": "light"
     },
     "output_type": "display_data"
    }
   ],
   "source": [
    "import matplotlib.pyplot as plt\n",
    "plt.plot(f_list)\n",
    "plt.xlabel(\"number of base estimators in the ensemble\")\n",
    "plt.ylabel(\"F-measure value\")\n",
    "plt.xticks(range(l_n_estimators.shape[0]),l_n_estimators)\n",
    "plt.show()"
   ]
  },
  {
   "cell_type": "code",
   "execution_count": 11,
   "id": "dc8aee41",
   "metadata": {
    "execution": {
     "iopub.execute_input": "2022-07-28T13:05:37.211038Z",
     "iopub.status.busy": "2022-07-28T13:05:37.210005Z",
     "iopub.status.idle": "2022-07-28T13:05:37.667275Z",
     "shell.execute_reply": "2022-07-28T13:05:37.665861Z"
    },
    "papermill": {
     "duration": 0.471739,
     "end_time": "2022-07-28T13:05:37.669589",
     "exception": false,
     "start_time": "2022-07-28T13:05:37.197850",
     "status": "completed"
    },
    "tags": []
   },
   "outputs": [
    {
     "data": {
      "image/png": "[encoded data removed]",
      "text/plain": [
       "<Figure size 432x288 with 2 Axes>"
      ]
     },
     "metadata": {
      "needs_background": "light"
     },
     "output_type": "display_data"
    },
    {
     "name": "stdout",
     "output_type": "stream",
     "text": [
      "Isolation Forest metris: Precision: 0.96, Recall: 0.81,  F1: 0.88\n"
     ]
    }
   ],
   "source": [
    "from sklearn.metrics import recall_score\n",
    "from sklearn.metrics import precision_score\n",
    "from sklearn.metrics import confusion_matrix\n",
    "import seaborn as sn\n",
    "\n",
    "#prediction over the test set with the best model\n",
    "t=tic()\n",
    "predit_y=b_model.predict(data_test)\n",
    "t=toc(t)\n",
    "predit_ = [1 if l ==-1 else 0 for l in predit_y]\n",
    "\n",
    "# metrics with isolation forest\n",
    "R_test=recall_score(Y_test, predit_)\n",
    "P_test=precision_score(Y_test, predit_)\n",
    "F_test=f1_score(Y_test,predit_)\n",
    "\n",
    "cf_matrix = confusion_matrix(Y_test, predit_)\n",
    "\n",
    "sn.heatmap(cf_matrix, annot=True, annot_kws={\"size\": 16},fmt=\"d\") # font size\n",
    "\n",
    "plt.show()\n",
    "\n",
    "print('Isolation Forest metris: Precision: %.2f, Recall: %.2f,  F1: %.2f' %(P_test ,R_test ,F_test))"
   ]
  },
  {
   "cell_type": "code",
   "execution_count": 12,
   "id": "0714efc2",
   "metadata": {
    "_kg_hide-input": true,
    "_kg_hide-output": false,
    "execution": {
     "iopub.execute_input": "2022-07-28T13:05:37.692961Z",
     "iopub.status.busy": "2022-07-28T13:05:37.692590Z",
     "iopub.status.idle": "2022-07-28T13:05:37.700057Z",
     "shell.execute_reply": "2022-07-28T13:05:37.698953Z"
    },
    "papermill": {
     "duration": 0.022996,
     "end_time": "2022-07-28T13:05:37.703412",
     "exception": false,
     "start_time": "2022-07-28T13:05:37.680416",
     "status": "completed"
    },
    "tags": []
   },
   "outputs": [
    {
     "name": "stdout",
     "output_type": "stream",
     "text": [
      "For this problem, 815 test items were predicted as normal or anomaly in a time of 0.06 seconds\n",
      "\n",
      "* 569 normal \n",
      "\n",
      "* 246 anomalies \n",
      "\n",
      "Of the 569 normal items, 9 were mispredicted as anomalies. Besides, of the 246 anomalies, 47 were mispredicted as normal. Resulting in Precision: 0.96, Recall: 0.81,  F1: 0.88\n"
     ]
    }
   ],
   "source": [
    "print('For this problem, 815 test items were predicted as normal or anomaly in a time of '+str(np.round(t,2))+' seconds\\n')\n",
    "print('* 569 normal \\n')\n",
    "print('* 246 anomalies \\n')\n",
    "print('Of the 569 normal items, '+str(cf_matrix[0][1])+' were mispredicted as anomalies. Besides, of the 246 anomalies, '+str(cf_matrix[1][0])+' were mispredicted as normal. Resulting in Precision: '+str(np.round(P_test,2))+', Recall: '+str(np.round(R_test,2))+',  F1: '+str(np.round(F_test,2)))"
   ]
  },
  {
   "cell_type": "markdown",
   "id": "be31a465",
   "metadata": {
    "papermill": {
     "duration": 0.010579,
     "end_time": "2022-07-28T13:05:37.724842",
     "exception": false,
     "start_time": "2022-07-28T13:05:37.714263",
     "status": "completed"
    },
    "tags": []
   },
   "source": [
    "**Gaussian Mixture Model**"
   ]
  },
  {
   "cell_type": "code",
   "execution_count": 13,
   "id": "e5a8232b",
   "metadata": {
    "execution": {
     "iopub.execute_input": "2022-07-28T13:05:37.748213Z",
     "iopub.status.busy": "2022-07-28T13:05:37.747524Z",
     "iopub.status.idle": "2022-07-28T13:05:39.187511Z",
     "shell.execute_reply": "2022-07-28T13:05:39.186108Z"
    },
    "papermill": {
     "duration": 1.45546,
     "end_time": "2022-07-28T13:05:39.191125",
     "exception": false,
     "start_time": "2022-07-28T13:05:37.735665",
     "status": "completed"
    },
    "tags": []
   },
   "outputs": [
    {
     "name": "stdout",
     "output_type": "stream",
     "text": [
      "The training of a data of 283178 objects take 1.37 seconds\n"
     ]
    }
   ],
   "source": [
    "from sklearn.mixture import GaussianMixture\n",
    "# Training Gaussian Mixture Model with normal data\n",
    "t=tic()\n",
    "gausMix = GaussianMixture().fit(data_train)\n",
    "t=toc(t)\n",
    "print('The training of a data of '+str(data_train.shape[0])+' objects take '+str(np.round(t,2))+' seconds')"
   ]
  },
  {
   "cell_type": "markdown",
   "id": "3db57c7e",
   "metadata": {
    "papermill": {
     "duration": 0.010771,
     "end_time": "2022-07-28T13:05:39.218395",
     "exception": false,
     "start_time": "2022-07-28T13:05:39.207624",
     "status": "completed"
    },
    "tags": []
   },
   "source": [
    "This anomaly detection approach models the features using a Gaussian distribution. First, the training set is used to fit the model. Then, with the validation set, the value for the hyper-parameter $\\epsilon$ is set such that the algorithm will predict an anomaly or one if the  log-likelihood of the item is less than or equal to epsilon. However, if the  log-likelihood of the object is greater than epsilon, the prediction will be zero or normal."
   ]
  },
  {
   "cell_type": "code",
   "execution_count": 14,
   "id": "61fc3f93",
   "metadata": {
    "execution": {
     "iopub.execute_input": "2022-07-28T13:05:39.243230Z",
     "iopub.status.busy": "2022-07-28T13:05:39.242828Z",
     "iopub.status.idle": "2022-07-28T13:05:39.357912Z",
     "shell.execute_reply": "2022-07-28T13:05:39.356647Z"
    },
    "papermill": {
     "duration": 0.130725,
     "end_time": "2022-07-28T13:05:39.360703",
     "exception": false,
     "start_time": "2022-07-28T13:05:39.229978",
     "status": "completed"
    },
    "tags": []
   },
   "outputs": [
    {
     "name": "stdout",
     "output_type": "stream",
     "text": [
      "The process to obtain the best hyper-parameter according to the validation set take: 0.1 seconds\n"
     ]
    }
   ],
   "source": [
    "from numpy import where,percentile\n",
    "# compute the log-likelihood of each sample on the validation set.\n",
    "scores = gausMix.score_samples(data_val)\n",
    "r=np.arange(10,101,10)\n",
    "f_likelihood=[0]*r.shape[0]\n",
    "l_thresh=[0]*r.shape[0]\n",
    "j=0\n",
    "t=tic()\n",
    "for i in r:\n",
    "    thresh =np.percentile(scores, i)\n",
    "    l_thresh[j]=thresh\n",
    "    #prediction for each hyper-parameter\n",
    "    predit_ = [1 if l <= thresh else 0 for l in scores]\n",
    "\n",
    "    # metrics\n",
    "    R=recall_score(Y_val, predit_)\n",
    "    P=precision_score(Y_val, predit_)\n",
    "    F=f1_score(Y_val,predit_)\n",
    "    f_likelihood[j]=F\n",
    "    j+=1  \n",
    "t=toc(t)\n",
    "\n",
    "# select the best threshold according to the validation set\n",
    "best_n_estimators=np.argmax(f_likelihood)\n",
    "b_thresh=l_thresh[best_n_estimators]\n",
    "print('The process to obtain the best hyper-parameter according to the validation set take: '+str(np.round(t,2))+' seconds')"
   ]
  },
  {
   "cell_type": "code",
   "execution_count": 15,
   "id": "a23cdc91",
   "metadata": {
    "execution": {
     "iopub.execute_input": "2022-07-28T13:05:39.391211Z",
     "iopub.status.busy": "2022-07-28T13:05:39.390558Z",
     "iopub.status.idle": "2022-07-28T13:05:39.588465Z",
     "shell.execute_reply": "2022-07-28T13:05:39.587403Z"
    },
    "papermill": {
     "duration": 0.212631,
     "end_time": "2022-07-28T13:05:39.590697",
     "exception": false,
     "start_time": "2022-07-28T13:05:39.378066",
     "status": "completed"
    },
    "tags": []
   },
   "outputs": [
    {
     "data": {
      "image/png": "[encoded data removed]",
      "text/plain": [
       "<Figure size 432x288 with 1 Axes>"
      ]
     },
     "metadata": {
      "needs_background": "light"
     },
     "output_type": "display_data"
    }
   ],
   "source": [
    "plt.plot(f_likelihood)\n",
    "plt.xlabel(\"Percentile\")\n",
    "plt.ylabel(\"F-measure value\")\n",
    "plt.xticks(range(r.shape[0]),r)\n",
    "plt.show()"
   ]
  },
  {
   "cell_type": "code",
   "execution_count": 16,
   "id": "d3d81639",
   "metadata": {
    "execution": {
     "iopub.execute_input": "2022-07-28T13:05:39.616187Z",
     "iopub.status.busy": "2022-07-28T13:05:39.615277Z",
     "iopub.status.idle": "2022-07-28T13:05:39.871094Z",
     "shell.execute_reply": "2022-07-28T13:05:39.870045Z"
    },
    "papermill": {
     "duration": 0.272,
     "end_time": "2022-07-28T13:05:39.874040",
     "exception": false,
     "start_time": "2022-07-28T13:05:39.602040",
     "status": "completed"
    },
    "tags": []
   },
   "outputs": [
    {
     "data": {
      "image/png": "[encoded data removed]",
      "text/plain": [
       "<Figure size 432x288 with 2 Axes>"
      ]
     },
     "metadata": {
      "needs_background": "light"
     },
     "output_type": "display_data"
    },
    {
     "name": "stdout",
     "output_type": "stream",
     "text": [
      "Gaussian Mixture Model metris: Precision: 0.93, Recall: 0.87,  F1: 0.90\n"
     ]
    }
   ],
   "source": [
    "# prediction over the test set with the best threshold \n",
    "t=tic()\n",
    "scores = gausMix.score_samples(data_test)\n",
    "t=toc(t)\n",
    "predit_ = [1 if l <= b_thresh else 0 for l in scores]\n",
    "\n",
    "# metrics\n",
    "R_test=recall_score(Y_test, predit_)\n",
    "P_test=precision_score(Y_test, predit_)\n",
    "F_test=f1_score(Y_test,predit_)\n",
    "\n",
    "cf_matrix = confusion_matrix(Y_test, predit_)\n",
    "\n",
    "sn.heatmap(cf_matrix, annot=True, annot_kws={\"size\": 16},fmt=\"d\") # font size\n",
    "\n",
    "plt.show()\n",
    "\n",
    "print('Gaussian Mixture Model metris: Precision: %.2f, Recall: %.2f,  F1: %.2f' %(P_test ,R_test ,F_test))"
   ]
  },
  {
   "cell_type": "code",
   "execution_count": 17,
   "id": "bbae18fd",
   "metadata": {
    "execution": {
     "iopub.execute_input": "2022-07-28T13:05:39.898949Z",
     "iopub.status.busy": "2022-07-28T13:05:39.898199Z",
     "iopub.status.idle": "2022-07-28T13:05:39.907082Z",
     "shell.execute_reply": "2022-07-28T13:05:39.905478Z"
    },
    "papermill": {
     "duration": 0.025195,
     "end_time": "2022-07-28T13:05:39.910566",
     "exception": false,
     "start_time": "2022-07-28T13:05:39.885371",
     "status": "completed"
    },
    "tags": []
   },
   "outputs": [
    {
     "name": "stdout",
     "output_type": "stream",
     "text": [
      "For this problem, 815 test items were predicted as normal or anomaly in a time of 0.01 seconds\n",
      "\n",
      "* 569 normal \n",
      "\n",
      "* 246 anomalies \n",
      "\n",
      "Of the 569 normal items, 17 were mispredicted as anomalies. Besides, of the 246 anomalies, 31 were mispredicted as normal. Resulting in Precision: 0.93, Recall: 0.87,  F1: 0.9\n"
     ]
    }
   ],
   "source": [
    "print('For this problem, 815 test items were predicted as normal or anomaly in a time of '+str(np.round(t,2))+' seconds\\n')\n",
    "print('* 569 normal \\n')\n",
    "print('* 246 anomalies \\n')\n",
    "print('Of the 569 normal items, '+str(cf_matrix[0][1])+' were mispredicted as anomalies. Besides, of the 246 anomalies, '+str(cf_matrix[1][0])+' were mispredicted as normal. Resulting in Precision: '+str(np.round(P_test,2))+', Recall: '+str(np.round(R_test,2))+',  F1: '+str(np.round(F_test,2)))"
   ]
  },
  {
   "cell_type": "markdown",
   "id": "89529120",
   "metadata": {
    "papermill": {
     "duration": 0.011617,
     "end_time": "2022-07-28T13:05:39.934429",
     "exception": false,
     "start_time": "2022-07-28T13:05:39.922812",
     "status": "completed"
    },
    "tags": []
   },
   "source": [
    "**One Class SVM**"
   ]
  },
  {
   "cell_type": "code",
   "execution_count": 18,
   "id": "eaebcccd",
   "metadata": {
    "execution": {
     "iopub.execute_input": "2022-07-28T13:05:39.960829Z",
     "iopub.status.busy": "2022-07-28T13:05:39.959837Z",
     "iopub.status.idle": "2022-07-28T15:19:56.654019Z",
     "shell.execute_reply": "2022-07-28T15:19:56.652721Z"
    },
    "papermill": {
     "duration": 8056.722,
     "end_time": "2022-07-28T15:19:56.668445",
     "exception": false,
     "start_time": "2022-07-28T13:05:39.946445",
     "status": "completed"
    },
    "tags": []
   },
   "outputs": [
    {
     "name": "stdout",
     "output_type": "stream",
     "text": [
      "The training of a data of 283178 objects take 8056.68 seconds\n"
     ]
    }
   ],
   "source": [
    "from sklearn.pipeline import Pipeline\n",
    "from sklearn.preprocessing import StandardScaler\n",
    "from sklearn.svm import OneClassSVM\n",
    "\n",
    "# Fit the One Class SVM using the normal data in the training set\n",
    "t=tic()\n",
    "pipe = Pipeline([('scaler', StandardScaler()), ('ocsvm', OneClassSVM(gamma='auto'))])\n",
    "pipe.fit(data_train)\n",
    "t=toc(t)\n",
    "\n",
    "print('The training of a data of '+str(data_train.shape[0])+' objects take '+str(np.round(t,2))+' seconds')"
   ]
  },
  {
   "cell_type": "code",
   "execution_count": 19,
   "id": "1bc33777",
   "metadata": {
    "execution": {
     "iopub.execute_input": "2022-07-28T15:19:56.694534Z",
     "iopub.status.busy": "2022-07-28T15:19:56.694155Z",
     "iopub.status.idle": "2022-07-28T15:20:06.943580Z",
     "shell.execute_reply": "2022-07-28T15:20:06.942489Z"
    },
    "papermill": {
     "duration": 10.265259,
     "end_time": "2022-07-28T15:20:06.946354",
     "exception": false,
     "start_time": "2022-07-28T15:19:56.681095",
     "status": "completed"
    },
    "tags": []
   },
   "outputs": [
    {
     "name": "stdout",
     "output_type": "stream",
     "text": [
      "The process to obtain the best hyper-parameter according to the validation set take: 0.05 seconds\n"
     ]
    }
   ],
   "source": [
    "from numpy import where,percentile\n",
    "# compute the log-likelihood of each sample aver the validation set.\n",
    "scores = pipe.score_samples(data_val)\n",
    "r=np.arange(10,100,10)\n",
    "f_likelihood=[0]*r.shape[0]\n",
    "l_thresh=[0]*r.shape[0]\n",
    "j=0\n",
    "t=tic()\n",
    "for i in r:\n",
    "    thresh = np.percentile(scores, i)\n",
    "    l_thresh[j]=thresh\n",
    "    #prediction for each hyper-parameter\n",
    "    predit_ = [1 if i <= thresh else 0 for i in scores]\n",
    "\n",
    "    # metrics\n",
    "    R=recall_score(Y_val, predit_)\n",
    "    P=precision_score(Y_val, predit_)\n",
    "    F=f1_score(Y_val,predit_)\n",
    "    f_likelihood[j]=F\n",
    "    j+=1  \n",
    "t=toc(t)\n",
    "\n",
    "# select the best threshold according to the validation set\n",
    "best_n_estimators=np.argmax(f_likelihood)\n",
    "b_thresh=l_thresh[best_n_estimators]\n",
    "print('The process to obtain the best hyper-parameter according to the validation set take: '+str(np.round(t,2))+' seconds')"
   ]
  },
  {
   "cell_type": "code",
   "execution_count": 20,
   "id": "4e4399fb",
   "metadata": {
    "execution": {
     "iopub.execute_input": "2022-07-28T15:20:06.972007Z",
     "iopub.status.busy": "2022-07-28T15:20:06.971645Z",
     "iopub.status.idle": "2022-07-28T15:20:07.170082Z",
     "shell.execute_reply": "2022-07-28T15:20:07.169094Z"
    },
    "papermill": {
     "duration": 0.214277,
     "end_time": "2022-07-28T15:20:07.172402",
     "exception": false,
     "start_time": "2022-07-28T15:20:06.958125",
     "status": "completed"
    },
    "tags": []
   },
   "outputs": [
    {
     "data": {
      "text/plain": [
       "Text(0, 0.5, 'F-measure value')"
      ]
     },
     "execution_count": 20,
     "metadata": {},
     "output_type": "execute_result"
    },
    {
     "data": {
      "image/png": "[encoded data removed]",
      "text/plain": [
       "<Figure size 432x288 with 1 Axes>"
      ]
     },
     "metadata": {
      "needs_background": "light"
     },
     "output_type": "display_data"
    }
   ],
   "source": [
    "plt.plot(f_likelihood)\n",
    "plt.xlabel(\"Log-likelihood\")\n",
    "plt.ylabel(\"F-measure value\")"
   ]
  },
  {
   "cell_type": "code",
   "execution_count": 21,
   "id": "ed0fe565",
   "metadata": {
    "execution": {
     "iopub.execute_input": "2022-07-28T15:20:07.199109Z",
     "iopub.status.busy": "2022-07-28T15:20:07.198716Z",
     "iopub.status.idle": "2022-07-28T15:20:17.689594Z",
     "shell.execute_reply": "2022-07-28T15:20:17.688486Z"
    },
    "papermill": {
     "duration": 10.507209,
     "end_time": "2022-07-28T15:20:17.692049",
     "exception": false,
     "start_time": "2022-07-28T15:20:07.184840",
     "status": "completed"
    },
    "tags": []
   },
   "outputs": [
    {
     "data": {
      "image/png": "[encoded data removed]",
      "text/plain": [
       "<Figure size 432x288 with 2 Axes>"
      ]
     },
     "metadata": {
      "needs_background": "light"
     },
     "output_type": "display_data"
    },
    {
     "name": "stdout",
     "output_type": "stream",
     "text": [
      "Gaussian Mixture Model metris: Precision: 0.91, Recall: 0.88,  F1: 0.89\n"
     ]
    }
   ],
   "source": [
    "#prediction over the test set\n",
    "\n",
    "t=tic()\n",
    "scores = pipe.score_samples(data_test)\n",
    "t=toc(t)\n",
    "predit_ = [1 if l <= b_thresh else 0 for l in scores]\n",
    "# metrics\n",
    "R_test=recall_score(Y_test, predit_)\n",
    "P_test=precision_score(Y_test, predit_)\n",
    "F_test=f1_score(Y_test,predit_)\n",
    "\n",
    "cf_matrix = confusion_matrix(Y_test, predit_)\n",
    "\n",
    "sn.heatmap(cf_matrix, annot=True, annot_kws={\"size\": 16},fmt=\"d\") # font size\n",
    "\n",
    "plt.show()\n",
    "\n",
    "print('Gaussian Mixture Model metris: Precision: %.2f, Recall: %.2f,  F1: %.2f' %(P_test ,R_test ,F_test))"
   ]
  },
  {
   "cell_type": "code",
   "execution_count": 22,
   "id": "57d4f112",
   "metadata": {
    "execution": {
     "iopub.execute_input": "2022-07-28T15:20:17.720690Z",
     "iopub.status.busy": "2022-07-28T15:20:17.719900Z",
     "iopub.status.idle": "2022-07-28T15:20:17.729402Z",
     "shell.execute_reply": "2022-07-28T15:20:17.727532Z"
    },
    "papermill": {
     "duration": 0.027047,
     "end_time": "2022-07-28T15:20:17.732459",
     "exception": false,
     "start_time": "2022-07-28T15:20:17.705412",
     "status": "completed"
    },
    "tags": []
   },
   "outputs": [
    {
     "name": "stdout",
     "output_type": "stream",
     "text": [
      "For this problem, 815 test items were predicted as normal or anomaly in a time of 10.28 seconds\n",
      "\n",
      "* 569 normal \n",
      "\n",
      "* 246 anomalies \n",
      "\n",
      "Of the 569 normal items, 21 were mispredicted as anomalies. Besides, of the 246 anomalies, 30 were mispredicted as normal. Resulting in Precision: 0.91, Recall: 0.88,  F1: 0.89\n"
     ]
    }
   ],
   "source": [
    "print('For this problem, 815 test items were predicted as normal or anomaly in a time of '+str(np.round(t,2))+' seconds\\n')\n",
    "print('* 569 normal \\n')\n",
    "print('* 246 anomalies \\n')\n",
    "print('Of the 569 normal items, '+str(cf_matrix[0][1])+' were mispredicted as anomalies. Besides, of the 246 anomalies, '+str(cf_matrix[1][0])+' were mispredicted as normal. Resulting in Precision: '+str(np.round(P_test,2))+', Recall: '+str(np.round(R_test,2))+',  F1: '+str(np.round(F_test,2)))"
   ]
  }
 ],
 "metadata": {
  "kernelspec": {
   "display_name": "Python 3",
   "language": "python",
   "name": "python3"
  },
  "language_info": {
   "codemirror_mode": {
    "name": "ipython",
    "version": 3
   },
   "file_extension": ".py",
   "mimetype": "text/x-python",
   "name": "python",
   "nbconvert_exporter": "python",
   "pygments_lexer": "ipython3",
   "version": "3.7.12"
  },
  "papermill": {
   "default_parameters": {},
   "duration": 8124.128851,
   "end_time": "2022-07-28T15:20:18.683814",
   "environment_variables": {},
   "exception": null,
   "input_path": "__notebook__.ipynb",
   "output_path": "__notebook__.ipynb",
   "parameters": {},
   "start_time": "2022-07-28T13:04:54.554963",
   "version": "2.3.4"
  }
 },
 "nbformat": 4,
 "nbformat_minor": 5
}
